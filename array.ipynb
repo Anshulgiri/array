{
 "cells": [
  {
   "cell_type": "code",
   "execution_count": 2,
   "id": "d8608192-af72-4a51-824c-d4a7edeb4829",
   "metadata": {},
   "outputs": [],
   "source": [
    "# 1. Give an array, check if it contain any duplicate or not.\n",
    "arr = [1,2,4,2,5,9]\n",
    "output = True"
   ]
  },
  {
   "cell_type": "code",
   "execution_count": 3,
   "id": "8d77dd20-315b-41fa-9ead-ce4476365a7b",
   "metadata": {},
   "outputs": [
    {
     "name": "stdout",
     "output_type": "stream",
     "text": [
      "True\n"
     ]
    }
   ],
   "source": [
    "def check_duplicate(array):\n",
    "    return len(array) != len(set(array))\n",
    "\n",
    "\n",
    "array = [1,2,4,2,5,9]\n",
    "print(check_duplicate(array))"
   ]
  },
  {
   "cell_type": "code",
   "execution_count": 5,
   "id": "30c48299-489a-40f0-bad7-00c96b550701",
   "metadata": {},
   "outputs": [],
   "source": [
    "#2. give an array and an integer k, rotate the array to the right by k steps.\n",
    "#arr = [1,2,3,4,5,6,7] k = 3\n",
    "#output = [5,6,7,1,2,3,4]"
   ]
  },
  {
   "cell_type": "code",
   "execution_count": 6,
   "id": "b4772f72-a67d-4a1f-828b-23df3d2aa225",
   "metadata": {},
   "outputs": [
    {
     "name": "stdout",
     "output_type": "stream",
     "text": [
      "5 , 6 , 7 , 1 , 2 , 3 , 4 , "
     ]
    }
   ],
   "source": [
    "num = [1,2,3,4,5,6,7]\n",
    "\n",
    "k= 3\n",
    "def rightArrayRotation(num_array, k):\n",
    "    for i in range (0,k):\n",
    "        temp = num_array[len(num_array)-1]\n",
    "        for j in range (len(num_array) -1, 0, -1):\n",
    "            num_array[j] = num_array[j-1]\n",
    "            \n",
    "        num_array[0] = temp\n",
    "    return num_array \n",
    "def printArray(array):\n",
    "    for i in range (0, len(array)):\n",
    "        print(array[i], end= ' , ')\n",
    "rotated_array = rightArrayRotation(num, k)\n",
    "printArray(rotated_array)"
   ]
  },
  {
   "cell_type": "code",
   "execution_count": 7,
   "id": "e4aba533-377f-438c-873f-0900759ab2de",
   "metadata": {},
   "outputs": [],
   "source": [
    "#3. reverse the given array in_place, means without using any extra structure.\n",
    "arr = [2,4,5,7,9,12]\n",
    "output = [12,9,7,5,4,2]\n"
   ]
  },
  {
   "cell_type": "code",
   "execution_count": 8,
   "id": "204ea347-524b-4a50-b444-fe0c034af31a",
   "metadata": {},
   "outputs": [
    {
     "name": "stdout",
     "output_type": "stream",
     "text": [
      "[12, 9, 7, 5, 4, 2]\n"
     ]
    }
   ],
   "source": [
    "arr = [2,4,5,7,9,12]\n",
    "arr = arr[::-1]\n",
    "print(arr)"
   ]
  },
  {
   "cell_type": "code",
   "execution_count": 9,
   "id": "4eccc273-2398-4d6f-98c9-4633f0a7144a",
   "metadata": {},
   "outputs": [],
   "source": [
    "#4. give an array of integers, find the maximum elememt of array.\n",
    "arr = [10,5,20,8,15]\n",
    "output = 20"
   ]
  },
  {
   "cell_type": "code",
   "execution_count": 10,
   "id": "ffd96827-c3be-4146-b797-18bc4fd5dea7",
   "metadata": {},
   "outputs": [
    {
     "name": "stdout",
     "output_type": "stream",
     "text": [
      "20\n"
     ]
    }
   ],
   "source": [
    "arr = [10,5,20,8,15]\n",
    "n = len(arr)\n",
    "maximum = arr[0]\n",
    "for i in range(1, n):\n",
    "    if arr[i] > maximum:\n",
    "        maximum = arr[i]\n",
    "print (maximum)"
   ]
  },
  {
   "cell_type": "code",
   "execution_count": 11,
   "id": "cb6448ad-047d-47ad-8ecf-9ae6445ce281",
   "metadata": {},
   "outputs": [],
   "source": [
    "#5. give a sorted array , remove the duplicate element without using any extra data structure.\n",
    "arr = [1,1,2,2,2,3,3,4,4,4,5,5]\n",
    "output = [1,2,3,4,5]"
   ]
  },
  {
   "cell_type": "code",
   "execution_count": 12,
   "id": "0117b7bb-728f-45e0-82c9-4b5931f877a8",
   "metadata": {},
   "outputs": [
    {
     "ename": "SyntaxError",
     "evalue": "'(' was never closed (651884650.py, line 5)",
     "output_type": "error",
     "traceback": [
      "\u001b[0;36m  Cell \u001b[0;32mIn[12], line 5\u001b[0;36m\u001b[0m\n\u001b[0;31m    while(j<len(arr) and arr[i] == nums.pop(j)\u001b[0m\n\u001b[0m         ^\u001b[0m\n\u001b[0;31mSyntaxError\u001b[0m\u001b[0;31m:\u001b[0m '(' was never closed\n"
     ]
    }
   ],
   "source": [
    "arr = [1,1,2,2,2,3,3,4,4,4,5,5]\n",
    "i = 0\n",
    "while(i <len(arr)):\n",
    "    j = i+1\n",
    "    while(j<len(arr) and arr[i] == nums.pop(j)\n",
    "          i=j"
   ]
  },
  {
   "cell_type": "code",
   "execution_count": null,
   "id": "39045c27-0ac9-442c-8694-9270f1a8bafd",
   "metadata": {},
   "outputs": [],
   "source": []
  }
 ],
 "metadata": {
  "kernelspec": {
   "display_name": "Python 3 (ipykernel)",
   "language": "python",
   "name": "python3"
  },
  "language_info": {
   "codemirror_mode": {
    "name": "ipython",
    "version": 3
   },
   "file_extension": ".py",
   "mimetype": "text/x-python",
   "name": "python",
   "nbconvert_exporter": "python",
   "pygments_lexer": "ipython3",
   "version": "3.10.8"
  }
 },
 "nbformat": 4,
 "nbformat_minor": 5
}
